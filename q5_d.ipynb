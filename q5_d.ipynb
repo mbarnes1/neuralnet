{
 "cells": [
  {
   "cell_type": "code",
   "execution_count": 1,
   "metadata": {
    "collapsed": false
   },
   "outputs": [],
   "source": [
    "%load_ext autoreload\n",
    "import numpy as np\n",
    "%matplotlib inline\n",
    "import matplotlib.pyplot as plt\n",
    "import matplotlib.image as mpimg\n",
    "from scipy.cluster.vq import whiten\n",
    "%aimport utils\n",
    "%aimport neuralnetwork\n",
    "%autoreload 1"
   ]
  },
  {
   "cell_type": "code",
   "execution_count": 4,
   "metadata": {
    "collapsed": false
   },
   "outputs": [
    {
     "name": "stderr",
     "output_type": "stream",
     "text": [
      "/Users/mbarnes1/anaconda/lib/python2.7/site-packages/scipy/cluster/vq.py:148: RuntimeWarning: Some columns have standard deviation zero. The values of these columns will not change.\n",
      "  RuntimeWarning)\n"
     ]
    }
   ],
   "source": [
    "## Load data, shuffle, and whiten\n",
    "train = np.loadtxt('digitstrain.txt', delimiter=',')\n",
    "np.random.shuffle(train)\n",
    "train_imgs = train[:, 0:-1]\n",
    "train_labels = train[:, -1]\n",
    "valid = np.loadtxt('digitsvalid.txt', delimiter=',')\n",
    "valid_imgs = valid[:, 0:-1]\n",
    "valid_labels = valid[:, -1]\n",
    "\n",
    "train_imgs = train_imgs - np.mean(train_imgs, axis=0)\n",
    "train_imgs = whiten(train_imgs)\n",
    "valid_imgs = valid_imgs - np.mean(valid_imgs, axis=0)\n",
    "valid_imgs = whiten(valid_imgs)"
   ]
  },
  {
   "cell_type": "code",
   "execution_count": null,
   "metadata": {
    "collapsed": false
   },
   "outputs": [],
   "source": [
    "epochs = 200\n",
    "eta = -0.1\n",
    "H = [784, 100, 10]\n",
    "for eta in [0.01, 0.1, 0.2, 0.5]:\n",
    "    net = neuralnetwork.SingleLayerNet(H)\n",
    "    train_loss, valid_loss, train_error, valid_error, W = net.train(train_imgs, train_labels, valid_imgs, valid_labels, epochs, eta)\n",
    "    plt.figure(i)\n",
    "    plt.plot(train_loss)\n",
    "    plt.plot(valid_loss)\n",
    "    plt.xlabel('epoch')\n",
    "    plt.ylabel('Average Cross-Entropy Loss')\n",
    "    plt.title('Learning rate')\n",
    "    plt.legend(['Train', 'Validation'])\n",
    "    plt.show()\n",
    "    \n",
    "    plt.figure(i+5)\n",
    "    plt.plot(train_error)\n",
    "    plt.plot(valid_error)\n",
    "    plt.xlabel('epoch')\n",
    "    plt.ylabel('Average Classification Error')\n",
    "    plt.legend(['Train', 'Validation'])\n",
    "    plt.show()"
   ]
  },
  {
   "cell_type": "code",
   "execution_count": null,
   "metadata": {
    "collapsed": false
   },
   "outputs": [],
   "source": [
    "new_img = utils.image_grid(W[0:100])\n",
    "f = plt.figure(figsize=(15,15))\n",
    "plt.imshow(new_img, cmap=plt.cm.binary)"
   ]
  },
  {
   "cell_type": "code",
   "execution_count": null,
   "metadata": {
    "collapsed": true
   },
   "outputs": [],
   "source": []
  }
 ],
 "metadata": {
  "kernelspec": {
   "display_name": "Python 2",
   "language": "python",
   "name": "python2"
  },
  "language_info": {
   "codemirror_mode": {
    "name": "ipython",
    "version": 2
   },
   "file_extension": ".py",
   "mimetype": "text/x-python",
   "name": "python",
   "nbconvert_exporter": "python",
   "pygments_lexer": "ipython2",
   "version": "2.7.12"
  }
 },
 "nbformat": 4,
 "nbformat_minor": 0
}
